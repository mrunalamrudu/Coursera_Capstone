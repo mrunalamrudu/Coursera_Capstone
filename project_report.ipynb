{
 "cells": [
  {
   "cell_type": "markdown",
   "metadata": {},
   "source": [
    "<h1 align=center><font size = 10>PROJECT REPORT</font></h1>\n",
    "<h1 align=center><font size = 5>Analysis of Populous Cities of India to find citites with similar restaurant culture </font></h1>"
   ]
  },
  {
   "cell_type": "markdown",
   "metadata": {},
   "source": [
    "<h3>Introduction/Problem Statement Section</h3>"
   ]
  },
  {
   "cell_type": "markdown",
   "metadata": {},
   "source": [
    "<p>Indian Restaurant Industry has been one of the fastest-growing industries in the country. The market size of the Indian restaurants and food services industry stands at Rs 3.7 trillion as of 2018 registering a year-on-year growth of about 10% and a CAGR growth of 8.4% between 2013 and 2018 (Information source: <a href=\"http://www.careratings.com/upload/NewsFiles/Studies/Restaurants%20%20QSRs%20May%202019.pdf/\">Link</a>)</p>\n",
    "<p>There are many things one has to consider and plan accordingly when venturing into the Restaurant Business. Some of the important steps involved are deciding the concept of your restaurant, getting investors to fund your restaurant business, evaluating restaurant costs involved, and deciding the location of your restaurant. </p>\n",
    "<p>Selecting a suitable city for a particular type of restaurant or expansion of an existing restaurant group is a crucial step. The existing restaurant culture of that city influences the acceptance of new restaurants, the inflow of customers, and local competition. Although the restaurant business is growing in India, eating-out culture is not so popular in villages and less populous cities.</p>\n",
    "<p>So, through this project, we are aiming to find a solution to the <b>problem</b> – \"which cities of India are suitable for establishing a particular type of chain of restaurants or for expansion of an already existing restaurant group to other cities and restaurant categories.\"</p>\n",
    "<p>Solution to this problem is benefited for Businesses thinking to start a restaurant chain or Businesses trying to expand their restaurant business to other potential cities.</p>"
   ]
  },
  {
   "cell_type": "markdown",
   "metadata": {},
   "source": [
    "<h3>Data Section</h3>"
   ]
  },
  {
   "cell_type": "markdown",
   "metadata": {},
   "source": [
    "<p>Two Datasets have been utilized for this project. Densely populated cities of India have a broader scope for Restaurant business, for this purpose, a list of 45 most populous cities of India has been collected from Wikipedia(Source link: <a href =\"https://en.wikipedia.org/wiki/List_of_cities_in_India_by_population\">Link</a>).</p>\n",
    "<p>For further analysis of these cities on the basis of restaurants and common restaurant categories operating in these cities, a JASON file containing the details for each city has been extracted using the Foursquare API. </p>\n",
    "<p>Combining these two datasets, we get information about the number of restaurants under different venue categories and the most common venues in these areas. Using unsupervised Data Science algorithms, we can group similar cities, this will help us determine which cities are similar on the basis of restaurant culture and therefore, helps us choose a city for expansion of existing business or for the establishment of a chain of restaurant groups.</p>"
   ]
  },
  {
   "cell_type": "code",
   "execution_count": null,
   "metadata": {},
   "outputs": [],
   "source": []
  }
 ],
 "metadata": {
  "kernelspec": {
   "display_name": "Python",
   "language": "python",
   "name": "conda-env-python-py"
  },
  "language_info": {
   "codemirror_mode": {
    "name": "ipython",
    "version": 3
   },
   "file_extension": ".py",
   "mimetype": "text/x-python",
   "name": "python",
   "nbconvert_exporter": "python",
   "pygments_lexer": "ipython3",
   "version": "3.6.10"
  }
 },
 "nbformat": 4,
 "nbformat_minor": 4
}
